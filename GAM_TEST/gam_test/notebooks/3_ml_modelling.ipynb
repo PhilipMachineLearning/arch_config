{
 "cells": [
  {
   "cell_type": "markdown",
   "metadata": {},
   "source": [
    "## ML modelling\n",
    "\n",
    "Here we compute a cross-validation on both short time horizon (30 minute intervals for marginal liquidity cost) and long time horizons (1 day intervals). This was done because initially the caculation of a short-time horizon only captured temporal effects. To capture volume effects as desribed in the literature a longer time horizon was required.\n",
    "\n",
    "\n",
    "References:\n",
    "* [Impact Cost calculation](https://economictimes.indiatimes.com/definition/impact-cost#:~:text=Definition%3A%20Impact%20cost%20is%20the,liquidity%20condition%20on%20the%20counter.&text=This%20is%20a%20cost%20that,to%20lack%20of%20market%20liquidity).\n",
    "* [Limit Order Books](https://www.imperial.ac.uk/media/imperial-college/research-centres-and-groups/cfm-imperial-institute-of-quantitative-finance/events/imperial-eth-2016/Julius-Bonart.pdf)\n",
    "* [Paper on gap K fold cross validation techniques](https://arxiv.org/pdf/1905.11744.pdf)"
   ]
  },
  {
   "cell_type": "code",
   "execution_count": 1,
   "metadata": {},
   "outputs": [],
   "source": [
    "import pandas as pd\n",
    "import numpy as np\n",
    "from pandas_profiling import ProfileReport\n",
    "import etl\n",
    "import config as cfg\n",
    "import liquidity_costs as lc\n",
    "import feature_engineering as fe\n",
    "import ml_modelling as ml\n",
    "from sklearn.preprocessing import MinMaxScaler\n",
    "from tabulate import tabulate\n",
    "\n",
    "scaler = MinMaxScaler((-100,100))\n",
    "\n",
    "asks_merged_df, bids_merged_df = fe.get_data(sin_cos_transform=True)\n",
    "\n",
    "for df in [asks_merged_df, bids_merged_df]:\n",
    "    df[cfg.Y_COL] = scaler.fit_transform(df[cfg.Y_COL])"
   ]
  },
  {
   "cell_type": "markdown",
   "metadata": {},
   "source": [
    "## CV prediction 30-min intervals "
   ]
  },
  {
   "cell_type": "code",
   "execution_count": 2,
   "metadata": {},
   "outputs": [
    {
     "name": "stdout",
     "output_type": "stream",
     "text": [
      "Running GridSearchCV for ExtraTreesRegressor.\n",
      "Fitting 5 folds for each of 42 candidates, totalling 210 fits\n"
     ]
    },
    {
     "name": "stderr",
     "output_type": "stream",
     "text": [
      "[Parallel(n_jobs=3)]: Using backend LokyBackend with 3 concurrent workers.\n",
      "[Parallel(n_jobs=3)]: Done  44 tasks      | elapsed:    3.7s\n",
      "[Parallel(n_jobs=3)]: Done 205 out of 210 | elapsed:   19.1s remaining:    0.5s\n",
      "[Parallel(n_jobs=3)]: Done 210 out of 210 | elapsed:   20.2s finished\n"
     ]
    }
   ],
   "source": [
    "scores = ml.get_cv_results(asks_merged_df, \"30min\")"
   ]
  },
  {
   "cell_type": "code",
   "execution_count": 4,
   "metadata": {},
   "outputs": [
    {
     "data": {
      "text/html": [
       "<div>\n",
       "<style scoped>\n",
       "    .dataframe tbody tr th:only-of-type {\n",
       "        vertical-align: middle;\n",
       "    }\n",
       "\n",
       "    .dataframe tbody tr th {\n",
       "        vertical-align: top;\n",
       "    }\n",
       "\n",
       "    .dataframe thead th {\n",
       "        text-align: right;\n",
       "    }\n",
       "</style>\n",
       "<table border=\"1\" class=\"dataframe\">\n",
       "  <thead>\n",
       "    <tr style=\"text-align: right;\">\n",
       "      <th></th>\n",
       "      <th>estimator</th>\n",
       "      <th>min_score</th>\n",
       "      <th>mean_score</th>\n",
       "      <th>max_score</th>\n",
       "      <th>std_score</th>\n",
       "      <th>max_depth</th>\n",
       "      <th>n_estimators</th>\n",
       "      <th>random_state</th>\n",
       "    </tr>\n",
       "  </thead>\n",
       "  <tbody>\n",
       "    <tr>\n",
       "      <th>12</th>\n",
       "      <td>ExtraTreesRegressor</td>\n",
       "      <td>2601.71</td>\n",
       "      <td>1169.22</td>\n",
       "      <td>23.4365</td>\n",
       "      <td>-1170.15</td>\n",
       "      <td>3</td>\n",
       "      <td>16</td>\n",
       "      <td>121301</td>\n",
       "    </tr>\n",
       "    <tr>\n",
       "      <th>13</th>\n",
       "      <td>ExtraTreesRegressor</td>\n",
       "      <td>2808.37</td>\n",
       "      <td>1187.55</td>\n",
       "      <td>24.0981</td>\n",
       "      <td>-1229.93</td>\n",
       "      <td>3</td>\n",
       "      <td>32</td>\n",
       "      <td>121301</td>\n",
       "    </tr>\n",
       "    <tr>\n",
       "      <th>18</th>\n",
       "      <td>ExtraTreesRegressor</td>\n",
       "      <td>3526.15</td>\n",
       "      <td>1499.12</td>\n",
       "      <td>24.4908</td>\n",
       "      <td>-1616.75</td>\n",
       "      <td>4</td>\n",
       "      <td>16</td>\n",
       "      <td>121301</td>\n",
       "    </tr>\n",
       "  </tbody>\n",
       "</table>\n",
       "</div>"
      ],
      "text/plain": [
       "              estimator min_score mean_score max_score std_score max_depth  \\\n",
       "12  ExtraTreesRegressor   2601.71    1169.22   23.4365  -1170.15         3   \n",
       "13  ExtraTreesRegressor   2808.37    1187.55   24.0981  -1229.93         3   \n",
       "18  ExtraTreesRegressor   3526.15    1499.12   24.4908  -1616.75         4   \n",
       "\n",
       "   n_estimators random_state  \n",
       "12           16       121301  \n",
       "13           32       121301  \n",
       "18           16       121301  "
      ]
     },
     "execution_count": 4,
     "metadata": {},
     "output_type": "execute_result"
    }
   ],
   "source": [
    "scores.head(3)"
   ]
  },
  {
   "cell_type": "markdown",
   "metadata": {},
   "source": [
    "## CV prediction 1-day intervals\n",
    "Data is split over 30 minute intervals per row so each full day requires 48 time steps"
   ]
  },
  {
   "cell_type": "code",
   "execution_count": null,
   "metadata": {},
   "outputs": [],
   "source": [
    "scores_daily_models_dict = ml.get_scores_daily_models(asks_merged_df, bids_merged_df)"
   ]
  },
  {
   "cell_type": "code",
   "execution_count": null,
   "metadata": {},
   "outputs": [],
   "source": []
  },
  {
   "cell_type": "code",
   "execution_count": null,
   "metadata": {},
   "outputs": [],
   "source": []
  },
  {
   "cell_type": "code",
   "execution_count": null,
   "metadata": {},
   "outputs": [],
   "source": []
  }
 ],
 "metadata": {
  "kernelspec": {
   "display_name": "Python 3",
   "language": "python",
   "name": "python3"
  },
  "language_info": {
   "codemirror_mode": {
    "name": "ipython",
    "version": 3
   },
   "file_extension": ".py",
   "mimetype": "text/x-python",
   "name": "python",
   "nbconvert_exporter": "python",
   "pygments_lexer": "ipython3",
   "version": "3.8.5"
  }
 },
 "nbformat": 4,
 "nbformat_minor": 4
}
