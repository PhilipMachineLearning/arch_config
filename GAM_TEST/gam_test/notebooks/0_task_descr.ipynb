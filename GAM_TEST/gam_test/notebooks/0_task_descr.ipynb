{
 "cells": [
  {
   "cell_type": "markdown",
   "metadata": {},
   "source": [
    "# Tasks\n",
    "\n",
    "1. Download the dataset and work locally on your computer. Both Level 1 data and Level 2 tick data is provided for security ABC, an equity instrument, in two CSV files.\n",
    "1. Build a model using Python to predict the cost of selling a given volume and time horizon of the\n",
    "security. You can use any model you like (e.g. Support Vector Machine, Random Forest or Neural\n",
    "Networks). Try and get your model to achieve a mean squared error below 5%.\n",
    "1. Upload your code and results to GitHub (https://github.com/). Ensure your code is able to be executed once downloaded and give brief instructions on how it can be run."
   ]
  },
  {
   "cell_type": "markdown",
   "metadata": {},
   "source": [
    "## Notes:\n",
    "\n",
    "\n",
    "Liquidity Risk:  The task centers around predicting the cost of selling a security. In Asset Management, we always need to ensure that the portfolio has enough liquidity such that, should we have to sell a large amount of assets, not too large a cost would be incurred. \n",
    "\n",
    "So we have function $C = F(v,t)$ where \n",
    "* $v =$ volume ($x10^8$ \\$M)\n",
    "* $t =$ time horizon (days)\n",
    "* $C =$ Liquidation Cost (%)\n",
    "\n",
    "where liquidation cost here is the percentage cost of liquidating an asset based on time, volume (and other exogenous market factors)\n",
    "\n",
    "More precisely we are given:\n",
    "$$C = \\alpha +  \\begin{bmatrix}\n",
    "    \\beta_1 \\\\\n",
    "    \\beta_2\n",
    "  \\end{bmatrix} \\cdot \\begin{bmatrix} v \\; \\; t \\end{bmatrix} + \\epsilon $$\n",
    "\n"
   ]
  },
  {
   "cell_type": "markdown",
   "metadata": {},
   "source": [
    "## Q2: How to calculate liquidity costs:\n",
    "\n",
    "Ultimate goal: Construction of liquidity model based on cost, value and time on stocks.\n",
    "\n",
    "\n",
    "In order to build a Machine Learning model we will first need a label which represents the costs of selling. After we have our label $C$ we wish to predict $\\hat{C}$ given the volume and trading volume. Effectively trying to re-create this liquidity surface provided in the [Bloomberg article](https://www.bloomberg.com/professional/blog/practically-speaking-determine-liquidity/) with a non-linear model. To re-create the liquidity surface an ML  model can trained on any number of features but a [3D PDP](https://scikit-learn.org/stable/auto_examples/inspection/plot_partial_dependence.html) must be used to demonstrate the non-linear relationship between Cost = F(Value, Time). \n",
    "\n",
    "Resources:\n",
    "\n",
    "1. The main article resource we are given is [here from Bloomberg](https://www.bloomberg.com/professional/blog/practically-speaking-determine-liquidity/). From this article I will assume we must first calculate the liquidity cost on bond trades.\n",
    "1. [Macquarie](https://www.macquarie.com.au/dafiles/Internet/mgl/au/mfg/mim/docs/mim-investment-perspectives/ip14-value-of-liquidity.pdf?v=8) give the liquidity cost on corporate bonds as: $\\text{Liquidity cost }= \\text{Bid-offer spread} × \\text{duration} × \\text{turnover}$\n",
    "1. [Stefano Pasquali](https://www.youtube.com/watch?v=X2mZH6KRRMo) MD of Blackrock gives liquidity costs by the slippage or Implementation Shortfall (IS) and uses this to train his algorithms: $IS=\\frac{\\text{Trade Price - Benchmark Price}}{\\text{Benchmark Price}}$ - but says that this may be wrong based on data\n",
    "1. [Knight & Satchell Forecasting Volatility in the Financial Market, 3e (2007)](https://www.sciencedirect.com/book/9780750669429/forecasting-volatility-in-the-financial-markets) give liquidity costs by: $c = \\big[ ln ( \\frac{Pw_t}{P_{t-1}}  ) - ln ( \\frac{P_t}{P_{t-1}} )  \\big] \\times Qt$ where Pt = spot price, Pwt = weighted spot price and Qt = quote type (paid +1, given −1). \n",
    "\n",
    "First compute the cost from level 2 market data then compute do training on this and predict C on level 1 data."
   ]
  },
  {
   "cell_type": "code",
   "execution_count": null,
   "metadata": {},
   "outputs": [],
   "source": []
  }
 ],
 "metadata": {
  "kernelspec": {
   "display_name": "Python 3",
   "language": "python",
   "name": "python3"
  },
  "language_info": {
   "codemirror_mode": {
    "name": "ipython",
    "version": 3
   },
   "file_extension": ".py",
   "mimetype": "text/x-python",
   "name": "python",
   "nbconvert_exporter": "python",
   "pygments_lexer": "ipython3",
   "version": "3.8.5"
  }
 },
 "nbformat": 4,
 "nbformat_minor": 4
}
